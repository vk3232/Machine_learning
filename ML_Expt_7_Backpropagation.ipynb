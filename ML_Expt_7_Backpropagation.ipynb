{
  "nbformat": 4,
  "nbformat_minor": 0,
  "metadata": {
    "colab": {
      "name": "ML-Expt-7-Backpropagation.ipynb",
      "provenance": [],
      "authorship_tag": "ABX9TyML4r0C+3jZaLcE/F/d/b4F",
      "include_colab_link": true
    },
    "kernelspec": {
      "name": "python3",
      "display_name": "Python 3"
    },
    "language_info": {
      "name": "python"
    }
  },
  "cells": [
    {
      "cell_type": "markdown",
      "metadata": {
        "id": "view-in-github",
        "colab_type": "text"
      },
      "source": [
        "<a href=\"https://colab.research.google.com/github/vk3232/Machine_learning/blob/main/ML_Expt_7_Backpropagation.ipynb\" target=\"_parent\"><img src=\"https://colab.research.google.com/assets/colab-badge.svg\" alt=\"Open In Colab\"/></a>"
      ]
    },
    {
      "cell_type": "markdown",
      "source": [
        "# **Exp: 7 Backpropagation** "
      ],
      "metadata": {
        "id": "PQYh9jK6JahB"
      }
    },
    {
      "cell_type": "markdown",
      "source": [
        "**Name: Vrushabh Babasaheb Khatik**\n",
        "\n",
        "**Roll No: 313072**\n",
        "\n",
        "**GR No: 22020234**\n",
        "\n",
        "**Batch: ML10**"
      ],
      "metadata": {
        "id": "-_43XvRsJmdL"
      }
    },
    {
      "cell_type": "code",
      "execution_count": null,
      "metadata": {
        "id": "roXLNx48Evkc"
      },
      "outputs": [],
      "source": [
        "import numpy as np\n",
        "import matplotlib.pyplot as plt"
      ]
    },
    {
      "cell_type": "code",
      "source": [
        "x1 = np.array([0,1,0,1])\n",
        "x2 = np.array([0,0,1,1])\n",
        "y = np.array([0,1,1,0])\n",
        "\n",
        "error = []\n",
        "itration = []"
      ],
      "metadata": {
        "id": "uQA8xVjoFvyu"
      },
      "execution_count": null,
      "outputs": []
    },
    {
      "cell_type": "code",
      "source": [
        "np.random.rand(23)\n",
        "\n",
        "w00 = np.random.rand()\n",
        "w01 = np.random.rand()\n",
        "w10 = np.random.rand()\n",
        "w11 = np.random.rand()\n",
        "\n",
        "b1 = 1.0\n",
        "\n",
        "w2 = np.random.rand()\n",
        "w3 = np.random.rand()\n",
        "\n",
        "b2 = 1.0"
      ],
      "metadata": {
        "id": "yz_BFx9TF5s6"
      },
      "execution_count": null,
      "outputs": []
    },
    {
      "cell_type": "code",
      "source": [
        "for i in range(1000):\n",
        "  # forward\n",
        "  \n",
        "  z1 = w00*x1 + w01*x2 + b1\n",
        "  z2 = w10*x1 + w11*x2 + b1\n",
        "\n",
        "  h1 = 1 / (1 + np.exp(-z1))\n",
        "  h2 = 1 / (1 + np.exp(-z2))\n",
        "\n",
        "  zout = w2 * h1 + w3 *h2 + b2\n",
        "  o = 1 / (1 + np.exp(-zout))\n",
        "\n",
        "  # backpropagation\n",
        "\n",
        "  e = 0.5 * np.mean((o - y) * (o - y))\n",
        "\n",
        "  de_do = o-y\n",
        "  do_dzout = o * (1-o)\n",
        "  dzout_dw2 = h1\n",
        "  dzout_dw3 = h2\n",
        "  dzout_db2 = 1\n",
        "\n",
        "  de_w2 = de_do * do_dzout * dzout_dw2\n",
        "  de_w3 = de_do * do_dzout * dzout_dw3\n",
        "  de_db2 = de_do * do_dzout * dzout_db2\n",
        "\n",
        "  dzout_dh1=w2\n",
        "  dh1_dz1=h1*(1-h1)\n",
        "  dzout_dh2=w3\n",
        "  dh2_dz2=h2*(1-h2)\n",
        "  dz1_dw00=x1\n",
        "  dz2_dw01=x2\n",
        "  dz1_dw10=x1\n",
        "  dz2_dw11=x2\n",
        "  dz1_db1=1\n",
        "  dz2_db1=1\n",
        "  \n",
        "  # chain rule\n",
        "  de_dw00=de_do*do_dzout*dzout_dh1*dh1_dz1*dz1_dw00\n",
        "\n",
        "  de_dw01=de_do*do_dzout*dzout_dh2*dh2_dz2*dz2_dw01\n",
        "\n",
        "  de_dw10=de_do*do_dzout*dzout_dh1*dh1_dz1*dz1_dw10\n",
        "\n",
        "  de_dw11=de_do*do_dzout*dzout_dh2*dh2_dz2*dz2_dw11\n",
        "\n",
        "  de_db1=de_do*do_dzout*dzout_dh1*dh1_dz1*dz1_db1+de_do*do_dzout*dzout_dh2*dh2_dz2*dz2_db1\n",
        "    \n",
        "\n",
        "  w00-=de_dw00\n",
        "  w01-=de_dw01\n",
        "  w10-=de_dw10\n",
        "  w11-=de_dw11\n",
        "  b1-=de_db1\n",
        "  b2-=de_db2\n",
        "  error.append(np.mean(e))\n",
        "  itration.append(i)"
      ],
      "metadata": {
        "id": "nk4EgsNbGUeL"
      },
      "execution_count": null,
      "outputs": []
    },
    {
      "cell_type": "code",
      "source": [
        "plt.ylabel(\"error\")\n",
        "plt.xlabel(\"itratiom\")\n",
        "plt.title(\"error plot\")\n",
        "plt.plot(itration,error)\n",
        "print(\"w=\",w00,w01,w10,w11)\n",
        "print(\"w2,w3=\",w2,w3)\n",
        "print(\"b1,b2=\",b1,b2)"
      ],
      "metadata": {
        "colab": {
          "base_uri": "https://localhost:8080/",
          "height": 346
        },
        "id": "gZ-3ahrKG3x1",
        "outputId": "524b1895-31d3-421a-da45-cc83f26240f2"
      },
      "execution_count": null,
      "outputs": [
        {
          "output_type": "stream",
          "name": "stdout",
          "text": [
            "w= [0.6315809  0.76902804 0.6315809  0.1818307 ] [0.44420834 0.44420834 0.51689385 0.2754685 ] [0.91675992 1.05420706 0.91675992 0.46700972] [0.68422629 0.68422629 0.75691181 0.51548645]\n",
            "w2,w3= 0.5729512819970635 0.30770843236323\n",
            "b1,b2= [-0.04999339  1.19709212  1.23256286  0.38150996] [-4.17848385  2.97552635  2.99763897 -4.39422158]\n"
          ]
        },
        {
          "output_type": "display_data",
          "data": {
            "text/plain": [
              "<Figure size 432x288 with 1 Axes>"
            ],
            "image/png": "[encoded data removed]"
          },
          "metadata": {
            "needs_background": "light"
          }
        }
      ]
    },
    {
      "cell_type": "code",
      "source": [
        "x1=np.array([0,1,0,1])\n",
        "x2=np.array([0,0,1,1])\n",
        "\n",
        "z1=w00*x1+w01*x2+b1\n",
        "z2=w10*x1+w11*x2+b1\n",
        "h1=1/(1+np.exp(-z1))\n",
        "h2=1/(1+np.exp(-z2))\n",
        "\n",
        "zout=w2*h1+w3*h2+b2\n",
        "o=1/(1+np.exp(-zout))\n",
        "print(\"o =\",np.round(o))"
      ],
      "metadata": {
        "colab": {
          "base_uri": "https://localhost:8080/"
        },
        "id": "vrb1KKyeHPXl",
        "outputId": "16fcab04-e13f-41d0-ece1-9d5f85f19de4"
      },
      "execution_count": null,
      "outputs": [
        {
          "output_type": "stream",
          "name": "stdout",
          "text": [
            "o = [0. 1. 1. 0.]\n"
          ]
        }
      ]
    },
    {
      "cell_type": "markdown",
      "source": [
        "# **Conclusion:**\n",
        "\n",
        "\n",
        "*   Thus I implemented small neural network for xor gate and used backpropagation algorithm\n",
        "*   I understand the working of neurons and importance of weight to get desired objective and learn about hidden and output layer.\n",
        "\n"
      ],
      "metadata": {
        "id": "40h9OiSqJ-3N"
      }
    }
  ]
}