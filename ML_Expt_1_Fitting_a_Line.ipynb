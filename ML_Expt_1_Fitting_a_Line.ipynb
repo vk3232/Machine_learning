{
  "cells": [
    {
      "cell_type": "markdown",
      "metadata": {
        "id": "view-in-github",
        "colab_type": "text"
      },
      "source": [
        "<a href=\"https://colab.research.google.com/github/vk3232/Machine_learning/blob/main/ML_Expt_1_Fitting_a_Line.ipynb\" target=\"_parent\"><img src=\"https://colab.research.google.com/assets/colab-badge.svg\" alt=\"Open In Colab\"/></a>"
      ]
    },
    {
      "cell_type": "markdown",
      "metadata": {
        "id": "av31CKxZTpFN"
      },
      "source": [
        "**Expt No-1- Program for fitting a line for a given data.**\n"
      ]
    },
    {
      "cell_type": "code",
      "execution_count": 2,
      "metadata": {
        "id": "p6E8wOrpTpFS"
      },
      "outputs": [],
      "source": [
        "# Importing necessary libraries\n",
        "import pandas as pd\n",
        "import numpy as np"
      ]
    },
    {
      "cell_type": "code",
      "source": [
        "df = pd.read_excel(\"/content/sample_data/dataset1.xlsx\") #read excel file\n",
        "df.head(6)"
      ],
      "metadata": {
        "colab": {
          "base_uri": "https://localhost:8080/",
          "height": 237
        },
        "id": "gDvmVvC5UR4g",
        "outputId": "2318cbbf-3349-4a56-ceb7-f5d5ec6e6a9c"
      },
      "execution_count": 3,
      "outputs": [
        {
          "output_type": "execute_result",
          "data": {
            "text/plain": [
              "   Year  interest rate (%)  Median home price\n",
              "0  1988               10.3             183800\n",
              "1  1989               10.3             183200\n",
              "2  1990               10.1             174900\n",
              "3  1991                9.3             173500\n",
              "4  1992                8.4             172900\n",
              "5  1993                7.3             173200"
            ],
            "text/html": [
              "\n",
              "  <div id=\"df-61e6b5e8-fc5f-4670-9055-7d874b860fc7\">\n",
              "    <div class=\"colab-df-container\">\n",
              "      <div>\n",
              "<style scoped>\n",
              "    .dataframe tbody tr th:only-of-type {\n",
              "        vertical-align: middle;\n",
              "    }\n",
              "\n",
              "    .dataframe tbody tr th {\n",
              "        vertical-align: top;\n",
              "    }\n",
              "\n",
              "    .dataframe thead th {\n",
              "        text-align: right;\n",
              "    }\n",
              "</style>\n",
              "<table border=\"1\" class=\"dataframe\">\n",
              "  <thead>\n",
              "    <tr style=\"text-align: right;\">\n",
              "      <th></th>\n",
              "      <th>Year</th>\n",
              "      <th>interest rate (%)</th>\n",
              "      <th>Median home price</th>\n",
              "    </tr>\n",
              "  </thead>\n",
              "  <tbody>\n",
              "    <tr>\n",
              "      <th>0</th>\n",
              "      <td>1988</td>\n",
              "      <td>10.3</td>\n",
              "      <td>183800</td>\n",
              "    </tr>\n",
              "    <tr>\n",
              "      <th>1</th>\n",
              "      <td>1989</td>\n",
              "      <td>10.3</td>\n",
              "      <td>183200</td>\n",
              "    </tr>\n",
              "    <tr>\n",
              "      <th>2</th>\n",
              "      <td>1990</td>\n",
              "      <td>10.1</td>\n",
              "      <td>174900</td>\n",
              "    </tr>\n",
              "    <tr>\n",
              "      <th>3</th>\n",
              "      <td>1991</td>\n",
              "      <td>9.3</td>\n",
              "      <td>173500</td>\n",
              "    </tr>\n",
              "    <tr>\n",
              "      <th>4</th>\n",
              "      <td>1992</td>\n",
              "      <td>8.4</td>\n",
              "      <td>172900</td>\n",
              "    </tr>\n",
              "    <tr>\n",
              "      <th>5</th>\n",
              "      <td>1993</td>\n",
              "      <td>7.3</td>\n",
              "      <td>173200</td>\n",
              "    </tr>\n",
              "  </tbody>\n",
              "</table>\n",
              "</div>\n",
              "      <button class=\"colab-df-convert\" onclick=\"convertToInteractive('df-61e6b5e8-fc5f-4670-9055-7d874b860fc7')\"\n",
              "              title=\"Convert this dataframe to an interactive table.\"\n",
              "              style=\"display:none;\">\n",
              "        \n",
              "  <svg xmlns=\"http://www.w3.org/2000/svg\" height=\"24px\"viewBox=\"0 0 24 24\"\n",
              "       width=\"24px\">\n",
              "    <path d=\"M0 0h24v24H0V0z\" fill=\"none\"/>\n",
              "    <path d=\"M18.56 5.44l.94 2.06.94-2.06 2.06-.94-2.06-.94-.94-2.06-.94 2.06-2.06.94zm-11 1L8.5 8.5l.94-2.06 2.06-.94-2.06-.94L8.5 2.5l-.94 2.06-2.06.94zm10 10l.94 2.06.94-2.06 2.06-.94-2.06-.94-.94-2.06-.94 2.06-2.06.94z\"/><path d=\"M17.41 7.96l-1.37-1.37c-.4-.4-.92-.59-1.43-.59-.52 0-1.04.2-1.43.59L10.3 9.45l-7.72 7.72c-.78.78-.78 2.05 0 2.83L4 21.41c.39.39.9.59 1.41.59.51 0 1.02-.2 1.41-.59l7.78-7.78 2.81-2.81c.8-.78.8-2.07 0-2.86zM5.41 20L4 18.59l7.72-7.72 1.47 1.35L5.41 20z\"/>\n",
              "  </svg>\n",
              "      </button>\n",
              "      \n",
              "  <style>\n",
              "    .colab-df-container {\n",
              "      display:flex;\n",
              "      flex-wrap:wrap;\n",
              "      gap: 12px;\n",
              "    }\n",
              "\n",
              "    .colab-df-convert {\n",
              "      background-color: #E8F0FE;\n",
              "      border: none;\n",
              "      border-radius: 50%;\n",
              "      cursor: pointer;\n",
              "      display: none;\n",
              "      fill: #1967D2;\n",
              "      height: 32px;\n",
              "      padding: 0 0 0 0;\n",
              "      width: 32px;\n",
              "    }\n",
              "\n",
              "    .colab-df-convert:hover {\n",
              "      background-color: #E2EBFA;\n",
              "      box-shadow: 0px 1px 2px rgba(60, 64, 67, 0.3), 0px 1px 3px 1px rgba(60, 64, 67, 0.15);\n",
              "      fill: #174EA6;\n",
              "    }\n",
              "\n",
              "    [theme=dark] .colab-df-convert {\n",
              "      background-color: #3B4455;\n",
              "      fill: #D2E3FC;\n",
              "    }\n",
              "\n",
              "    [theme=dark] .colab-df-convert:hover {\n",
              "      background-color: #434B5C;\n",
              "      box-shadow: 0px 1px 3px 1px rgba(0, 0, 0, 0.15);\n",
              "      filter: drop-shadow(0px 1px 2px rgba(0, 0, 0, 0.3));\n",
              "      fill: #FFFFFF;\n",
              "    }\n",
              "  </style>\n",
              "\n",
              "      <script>\n",
              "        const buttonEl =\n",
              "          document.querySelector('#df-61e6b5e8-fc5f-4670-9055-7d874b860fc7 button.colab-df-convert');\n",
              "        buttonEl.style.display =\n",
              "          google.colab.kernel.accessAllowed ? 'block' : 'none';\n",
              "\n",
              "        async function convertToInteractive(key) {\n",
              "          const element = document.querySelector('#df-61e6b5e8-fc5f-4670-9055-7d874b860fc7');\n",
              "          const dataTable =\n",
              "            await google.colab.kernel.invokeFunction('convertToInteractive',\n",
              "                                                     [key], {});\n",
              "          if (!dataTable) return;\n",
              "\n",
              "          const docLinkHtml = 'Like what you see? Visit the ' +\n",
              "            '<a target=\"_blank\" href=https://colab.research.google.com/notebooks/data_table.ipynb>data table notebook</a>'\n",
              "            + ' to learn more about interactive tables.';\n",
              "          element.innerHTML = '';\n",
              "          dataTable['output_type'] = 'display_data';\n",
              "          await google.colab.output.renderOutput(dataTable, element);\n",
              "          const docLink = document.createElement('div');\n",
              "          docLink.innerHTML = docLinkHtml;\n",
              "          element.appendChild(docLink);\n",
              "        }\n",
              "      </script>\n",
              "    </div>\n",
              "  </div>\n",
              "  "
            ]
          },
          "metadata": {},
          "execution_count": 3
        }
      ]
    },
    {
      "cell_type": "code",
      "execution_count": 13,
      "metadata": {
        "colab": {
          "base_uri": "https://localhost:8080/"
        },
        "id": "TGsbP7I6TpFY",
        "outputId": "f0b0ac97-6671-49d7-960c-15f26274a630"
      },
      "outputs": [
        {
          "output_type": "execute_result",
          "data": {
            "text/plain": [
              "(array([1988., 1989., 1990., 1991., 1992., 1993., 1994., 1995., 1996.,\n",
              "        1997., 1998., 1999., 2000., 2001., 2002., 2003.]),\n",
              " array([10.3, 10.3, 10.1,  9.3,  8.4,  7.3,  8.4,  7.9,  7.6,  7.6,  6.9,\n",
              "         7.4,  8.1,  7. ,  6.5,  5.8]))"
            ]
          },
          "metadata": {},
          "execution_count": 13
        }
      ],
      "source": [
        "#data = df.values #convert pandas dataframe into numpy arrays\n",
        "x = df[:,0] # get input values\n",
        "y = df[:,1] #get output values\n",
        "x,y"
      ]
    },
    {
      "cell_type": "code",
      "execution_count": 20,
      "metadata": {
        "id": "LDhvoXDeTpFa"
      },
      "outputs": [],
      "source": [
        "def slope_intercept(x,y):\n",
        "  #calculate slope\n",
        "  slope = ((np.mean(x)*np.mean(y))-np.mean(x*y))/ ((np.mean(x)*np.mean(x))-np.mean(x*x))\n",
        " \n",
        "  #calculate intercept\n",
        "  intercept = np.mean(y)-slope*np.mean(x)\n",
        "  return [slope,intercept]"
      ]
    },
    {
      "cell_type": "code",
      "execution_count": 21,
      "metadata": {
        "colab": {
          "base_uri": "https://localhost:8080/"
        },
        "id": "tR3H4fgnTpFc",
        "outputId": "fbde6efe-c9e0-42c8-c408-bb00cb98fe5a"
      },
      "outputs": [
        {
          "output_type": "execute_result",
          "data": {
            "text/plain": [
              "(-0.2551470588235294, 517.2022058823529)"
            ]
          },
          "metadata": {},
          "execution_count": 21
        }
      ],
      "source": [
        "m, c = slope_intercept(x,y)\n",
        "m, c"
      ]
    },
    {
      "cell_type": "code",
      "source": [
        "regression_line = [((m*i)+c) for i in x] # build array of regression line\n",
        "regression_line"
      ],
      "metadata": {
        "colab": {
          "base_uri": "https://localhost:8080/"
        },
        "id": "sxpEMxFoYUUv",
        "outputId": "207c9a83-00c9-4e57-bee5-d88a68db5192"
      },
      "execution_count": 22,
      "outputs": [
        {
          "output_type": "execute_result",
          "data": {
            "text/plain": [
              "[9.969852941176498,\n",
              " 9.714705882352973,\n",
              " 9.459558823529449,\n",
              " 9.204411764705924,\n",
              " 8.949264705882399,\n",
              " 8.694117647058874,\n",
              " 8.438970588235293,\n",
              " 8.183823529411768,\n",
              " 7.928676470588243,\n",
              " 7.673529411764719,\n",
              " 7.418382352941194,\n",
              " 7.163235294117669,\n",
              " 6.908088235294144,\n",
              " 6.65294117647062,\n",
              " 6.397794117647095,\n",
              " 6.14264705882357]"
            ]
          },
          "metadata": {},
          "execution_count": 22
        }
      ]
    },
    {
      "cell_type": "code",
      "source": [
        "import matplotlib.pyplot as plt\n",
        "from matplotlib import style"
      ],
      "metadata": {
        "id": "ZZt9TGRSY0Eu"
      },
      "execution_count": 23,
      "outputs": []
    },
    {
      "cell_type": "code",
      "execution_count": 25,
      "metadata": {
        "colab": {
          "base_uri": "https://localhost:8080/",
          "height": 298
        },
        "id": "RFrMtbNdTpFe",
        "outputId": "8733ddff-6651-46a8-cdc9-eca071203b08"
      },
      "outputs": [
        {
          "output_type": "display_data",
          "data": {
            "text/plain": [
              "<Figure size 432x288 with 1 Axes>"
            ],
            "image/png": "[encoded data removed]"
          },
          "metadata": {}
        }
      ],
      "source": [
        "style.use('ggplot')\n",
        "plt.scatter(x,y,color='red',label='data')\n",
        "plt.plot(x, regression_line,color='blue',label='regression line')\n",
        "plt.legend(loc=4)\n",
        "plt.title(\"Line plot\")\n",
        "plt.xlabel(\"Year\")\n",
        "plt.ylabel(\"Interest\")\n",
        "plt.show()"
      ]
    }
  ],
  "metadata": {
    "kernelspec": {
      "display_name": "Python 3 (ipykernel)",
      "language": "python",
      "name": "python3"
    },
    "language_info": {
      "codemirror_mode": {
        "name": "ipython",
        "version": 3
      },
      "file_extension": ".py",
      "mimetype": "text/x-python",
      "name": "python",
      "nbconvert_exporter": "python",
      "pygments_lexer": "ipython3",
      "version": "3.7.9"
    },
    "colab": {
      "name": "ML-Expt-1- Fitting a Line.ipynb",
      "provenance": [],
      "collapsed_sections": [],
      "include_colab_link": true
    }
  },
  "nbformat": 4,
  "nbformat_minor": 0
}