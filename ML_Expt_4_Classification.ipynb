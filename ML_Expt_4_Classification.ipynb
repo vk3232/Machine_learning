{
  "nbformat": 4,
  "nbformat_minor": 0,
  "metadata": {
    "colab": {
      "name": "ML-Expt-4- Classification.ipynb",
      "provenance": [],
      "authorship_tag": "ABX9TyMS81ncOBP/zhU32hLaKQMD",
      "include_colab_link": true
    },
    "kernelspec": {
      "name": "python3",
      "display_name": "Python 3"
    },
    "language_info": {
      "name": "python"
    }
  },
  "cells": [
    {
      "cell_type": "markdown",
      "metadata": {
        "id": "view-in-github",
        "colab_type": "text"
      },
      "source": [
        "<a href=\"https://colab.research.google.com/github/vk3232/Machine_learning/blob/main/ML_Expt_4_Classification.ipynb\" target=\"_parent\"><img src=\"https://colab.research.google.com/assets/colab-badge.svg\" alt=\"Open In Colab\"/></a>"
      ]
    },
    {
      "cell_type": "markdown",
      "source": [
        "# **Exp: 4 Classification**"
      ],
      "metadata": {
        "id": "T1mMyZA5a81j"
      }
    },
    {
      "cell_type": "markdown",
      "source": [
        "**Name: Vrushabh Babasaheb Khatik**\n",
        "\n",
        "**Roll No: 313072**\n",
        "\n",
        "**GR No: 22020234**\n",
        "\n",
        "**Batch: ML10**"
      ],
      "metadata": {
        "id": "3kHZF-s_bH7j"
      }
    },
    {
      "cell_type": "code",
      "execution_count": 1,
      "metadata": {
        "id": "OdNgoSIAXhME"
      },
      "outputs": [],
      "source": [
        "import tensorflow as tf\n",
        "import numpy as np"
      ]
    },
    {
      "cell_type": "markdown",
      "source": [
        "# Import data"
      ],
      "metadata": {
        "id": "2LjLryacX_L3"
      }
    },
    {
      "cell_type": "code",
      "source": [
        "data = tf.keras.datasets.mnist\n",
        "\n",
        "(x_train,y_train),(x_test,y_test) = data.load_data()\n",
        "\n",
        "x_train, x_test = x_train/ 255.0, x_test/ 255.0"
      ],
      "metadata": {
        "colab": {
          "base_uri": "https://localhost:8080/",
          "height": 0
        },
        "id": "kD3dNck7X3sV",
        "outputId": "e3a769ab-9e92-480b-bb20-af491921cf4d"
      },
      "execution_count": 2,
      "outputs": [
        {
          "output_type": "stream",
          "name": "stdout",
          "text": [
            "Downloading data from https://storage.googleapis.com/tensorflow/tf-keras-datasets/mnist.npz\n",
            "11493376/11490434 [==============================] - 0s 0us/step\n",
            "11501568/11490434 [==============================] - 0s 0us/step\n"
          ]
        }
      ]
    },
    {
      "cell_type": "markdown",
      "source": [
        "# Build Tensor Network"
      ],
      "metadata": {
        "id": "oUvQfcxoYnix"
      }
    },
    {
      "cell_type": "code",
      "source": [
        "print(\"Training Tensors\")\n",
        "print(\"=======================\")\n",
        "print(\"Number of dimensions in tensor: %d\"%x_train.ndim)\n",
        "print(\"Tensor shape: \", x_train.shape)\n",
        "print(\"Data type: %s\"%x_train.dtype)\n",
        "print(\"=======================\")\n",
        "print()\n",
        "print(\"Test Tensors\")\n",
        "print(\"=======================\")\n",
        "print(\"Number of dimensions in tensor: %d\"%x_test.ndim)\n",
        "print(\"Tensor shape: \", x_test.shape)\n",
        "print(\"Data type: %s\"%x_test.dtype)"
      ],
      "metadata": {
        "colab": {
          "base_uri": "https://localhost:8080/",
          "height": 0
        },
        "id": "XgS98jCSYM-2",
        "outputId": "8cc18f62-3f1e-4adc-d4b2-10caa3497bfb"
      },
      "execution_count": 3,
      "outputs": [
        {
          "output_type": "stream",
          "name": "stdout",
          "text": [
            "Training Tensors\n",
            "=======================\n",
            "Number of dimensions in tensor: 3\n",
            "Tensor shape:  (60000, 28, 28)\n",
            "Data type: float64\n",
            "=======================\n",
            "\n",
            "Test Tensors\n",
            "=======================\n",
            "Number of dimensions in tensor: 3\n",
            "Tensor shape:  (10000, 28, 28)\n",
            "Data type: float64\n"
          ]
        }
      ]
    },
    {
      "cell_type": "code",
      "source": [
        "model = tf.keras.models.Sequential([\n",
        "  tf.keras.layers.Flatten(input_shape=(28, 28)),\n",
        "  tf.keras.layers.Dense(128, activation='relu'),\n",
        "  tf.keras.layers.Dropout(0.2),\n",
        "  tf.keras.layers.Dense(10, activation='softmax')\n",
        "])\n",
        "\n",
        "model.compile(optimizer='adam',\n",
        "              loss='sparse_categorical_crossentropy',\n",
        "              metrics=['accuracy'])"
      ],
      "metadata": {
        "id": "oQzIDpurY4SS"
      },
      "execution_count": 4,
      "outputs": []
    },
    {
      "cell_type": "markdown",
      "source": [
        "# Train Tensor Network"
      ],
      "metadata": {
        "id": "Bk1Aw5dNZAmb"
      }
    },
    {
      "cell_type": "code",
      "source": [
        "model.fit(x_train, y_train, epochs=5)\n",
        "\n",
        "model.evaluate(x_test,  y_test, verbose=2)\n",
        "model.summary()"
      ],
      "metadata": {
        "colab": {
          "base_uri": "https://localhost:8080/",
          "height": 0
        },
        "id": "QHgEjsoXZGDV",
        "outputId": "210d4d45-fc25-49a2-e1fb-9bdd5b2d7484"
      },
      "execution_count": 5,
      "outputs": [
        {
          "output_type": "stream",
          "name": "stdout",
          "text": [
            "Epoch 1/5\n",
            "1875/1875 [==============================] - 5s 2ms/step - loss: 0.2942 - accuracy: 0.9150\n",
            "Epoch 2/5\n",
            "1875/1875 [==============================] - 4s 2ms/step - loss: 0.1429 - accuracy: 0.9578\n",
            "Epoch 3/5\n",
            "1875/1875 [==============================] - 4s 2ms/step - loss: 0.1056 - accuracy: 0.9674\n",
            "Epoch 4/5\n",
            "1875/1875 [==============================] - 4s 2ms/step - loss: 0.0848 - accuracy: 0.9740\n",
            "Epoch 5/5\n",
            "1875/1875 [==============================] - 4s 2ms/step - loss: 0.0726 - accuracy: 0.9765\n",
            "313/313 - 1s - loss: 0.0734 - accuracy: 0.9775 - 525ms/epoch - 2ms/step\n",
            "Model: \"sequential\"\n",
            "_________________________________________________________________\n",
            " Layer (type)                Output Shape              Param #   \n",
            "=================================================================\n",
            " flatten (Flatten)           (None, 784)               0         \n",
            "                                                                 \n",
            " dense (Dense)               (None, 128)               100480    \n",
            "                                                                 \n",
            " dropout (Dropout)           (None, 128)               0         \n",
            "                                                                 \n",
            " dense_1 (Dense)             (None, 10)                1290      \n",
            "                                                                 \n",
            "=================================================================\n",
            "Total params: 101,770\n",
            "Trainable params: 101,770\n",
            "Non-trainable params: 0\n",
            "_________________________________________________________________\n"
          ]
        }
      ]
    },
    {
      "cell_type": "markdown",
      "source": [
        "# Predict"
      ],
      "metadata": {
        "id": "ED3FyVW0ZUSr"
      }
    },
    {
      "cell_type": "code",
      "source": [
        "predictions = model.predict(x_test)\n",
        "print(predictions[1010])\n",
        "np.argmax(predictions[1010])"
      ],
      "metadata": {
        "colab": {
          "base_uri": "https://localhost:8080/",
          "height": 0
        },
        "id": "xZnttbCeZa5A",
        "outputId": "6aae51fc-b07f-4ab3-fae9-a4feaf129c44"
      },
      "execution_count": 6,
      "outputs": [
        {
          "output_type": "stream",
          "name": "stdout",
          "text": [
            "[1.5223887e-12 4.4061040e-11 7.1038253e-10 5.6302931e-11 9.9916732e-01\n",
            " 3.8687195e-10 1.2418942e-10 8.2651043e-04 4.7549526e-07 5.6953340e-06]\n"
          ]
        },
        {
          "output_type": "execute_result",
          "data": {
            "text/plain": [
              "4"
            ]
          },
          "metadata": {},
          "execution_count": 6
        }
      ]
    },
    {
      "cell_type": "code",
      "source": [
        "import matplotlib.pyplot as plt\n",
        "plt.imshow(x_test[1010],cmap='gray')"
      ],
      "metadata": {
        "colab": {
          "base_uri": "https://localhost:8080/",
          "height": 282
        },
        "id": "kqQPUy7_ZiNX",
        "outputId": "13161007-9e0d-48fa-b3e5-a2839fecdde5"
      },
      "execution_count": 7,
      "outputs": [
        {
          "output_type": "execute_result",
          "data": {
            "text/plain": [
              "<matplotlib.image.AxesImage at 0x7f354a9b27d0>"
            ]
          },
          "metadata": {},
          "execution_count": 7
        },
        {
          "output_type": "display_data",
          "data": {
            "text/plain": [
              "<Figure size 432x288 with 1 Axes>"
            ],
            "image/png": "[encoded data removed]"
          },
          "metadata": {
            "needs_background": "light"
          }
        }
      ]
    },
    {
      "cell_type": "code",
      "source": [
        "predictions = model.predict(x_test)\n",
        "print(predictions[100])\n",
        "print(type(predictions))\n",
        "np.argmax(predictions[100])"
      ],
      "metadata": {
        "colab": {
          "base_uri": "https://localhost:8080/",
          "height": 0
        },
        "id": "0gR-FNlvZnMA",
        "outputId": "207b39db-0d46-4a08-b92a-a80e65537b3b"
      },
      "execution_count": 8,
      "outputs": [
        {
          "output_type": "stream",
          "name": "stdout",
          "text": [
            "[9.1030059e-05 5.2004232e-08 5.8250816e-06 1.5491344e-07 7.5191343e-07\n",
            " 1.9301844e-05 9.9988127e-01 2.6088532e-07 1.3450444e-06 5.8646005e-10]\n",
            "<class 'numpy.ndarray'>\n"
          ]
        },
        {
          "output_type": "execute_result",
          "data": {
            "text/plain": [
              "6"
            ]
          },
          "metadata": {},
          "execution_count": 8
        }
      ]
    },
    {
      "cell_type": "code",
      "source": [
        "pred=[]\n",
        "for j in range(len(predictions)):\n",
        "   pred.append(np.argmax(predictions[j]))"
      ],
      "metadata": {
        "id": "ws-GM7B3ZsMX"
      },
      "execution_count": 9,
      "outputs": []
    },
    {
      "cell_type": "markdown",
      "source": [
        "## Evaluate the Model "
      ],
      "metadata": {
        "id": "hp3xUJJCZ2Op"
      }
    },
    {
      "cell_type": "code",
      "source": [
        "class_names = ['0', '1', '2', '3', '4',\n",
        "               '5', '6', '7', '8', '9']"
      ],
      "metadata": {
        "id": "A76bdbxKZ6fv"
      },
      "execution_count": 10,
      "outputs": []
    },
    {
      "cell_type": "code",
      "source": [
        "import sklearn\n",
        "from sklearn.metrics import confusion_matrix\n",
        "confusion_matrix(y_test,pred)"
      ],
      "metadata": {
        "colab": {
          "base_uri": "https://localhost:8080/",
          "height": 0
        },
        "id": "gVNIGN5jaD9U",
        "outputId": "5fa59011-1ad5-4ec3-fe4f-40ea155e56af"
      },
      "execution_count": 11,
      "outputs": [
        {
          "output_type": "execute_result",
          "data": {
            "text/plain": [
              "array([[ 973,    0,    0,    0,    0,    2,    2,    1,    2,    0],\n",
              "       [   0, 1125,    4,    0,    0,    1,    2,    1,    2,    0],\n",
              "       [   5,    1, 1007,    3,    2,    0,    2,    6,    6,    0],\n",
              "       [   1,    1,    7,  984,    0,    1,    0,    8,    5,    3],\n",
              "       [   2,    0,    3,    0,  959,    0,    4,    5,    1,    8],\n",
              "       [   2,    0,    0,    9,    2,  863,    6,    2,    4,    4],\n",
              "       [   5,    2,    1,    1,    2,    6,  940,    0,    1,    0],\n",
              "       [   2,    2,    7,    2,    0,    0,    0, 1011,    0,    4],\n",
              "       [   6,    1,    5,    4,    5,    3,    3,    6,  937,    4],\n",
              "       [   3,    4,    0,    6,    8,    1,    0,    9,    2,  976]])"
            ]
          },
          "metadata": {},
          "execution_count": 11
        }
      ]
    },
    {
      "cell_type": "code",
      "source": [
        "from sklearn.metrics import classification_report\n",
        "print(classification_report(y_test,pred, target_names=class_names))"
      ],
      "metadata": {
        "colab": {
          "base_uri": "https://localhost:8080/",
          "height": 0
        },
        "id": "yKzsoGr3aH_5",
        "outputId": "bba717e8-3828-4ec7-eb5b-16d93273300a"
      },
      "execution_count": 12,
      "outputs": [
        {
          "output_type": "stream",
          "name": "stdout",
          "text": [
            "              precision    recall  f1-score   support\n",
            "\n",
            "           0       0.97      0.99      0.98       980\n",
            "           1       0.99      0.99      0.99      1135\n",
            "           2       0.97      0.98      0.97      1032\n",
            "           3       0.98      0.97      0.97      1010\n",
            "           4       0.98      0.98      0.98       982\n",
            "           5       0.98      0.97      0.98       892\n",
            "           6       0.98      0.98      0.98       958\n",
            "           7       0.96      0.98      0.97      1028\n",
            "           8       0.98      0.96      0.97       974\n",
            "           9       0.98      0.97      0.97      1009\n",
            "\n",
            "    accuracy                           0.98     10000\n",
            "   macro avg       0.98      0.98      0.98     10000\n",
            "weighted avg       0.98      0.98      0.98     10000\n",
            "\n"
          ]
        }
      ]
    },
    {
      "cell_type": "code",
      "source": [
        "print('Accuracy:', sklearn.metrics.accuracy_score(y_test,pred))\n",
        "\n",
        "print('F1 score:',sklearn.metrics.f1_score(y_test,pred,\n",
        "                            average='weighted'))\n",
        "\n",
        "print( 'Recall:',sklearn.metrics.recall_score(y_test,pred,\n",
        "                              average='weighted'))\n",
        "\n",
        "print('Precision:',sklearn.metrics.precision_score(y_test,pred,\n",
        "                                    average='weighted'))"
      ],
      "metadata": {
        "colab": {
          "base_uri": "https://localhost:8080/",
          "height": 0
        },
        "id": "qhWa2D8FaMIN",
        "outputId": "be76975e-cdc3-4989-9f95-35c8f27c554f"
      },
      "execution_count": 13,
      "outputs": [
        {
          "output_type": "stream",
          "name": "stdout",
          "text": [
            "Accuracy: 0.9775\n",
            "F1 score: 0.9774881499745685\n",
            "Recall: 0.9775\n",
            "Precision: 0.977542935257359\n"
          ]
        }
      ]
    },
    {
      "cell_type": "markdown",
      "source": [
        "#**Conclusion:**\n",
        "\n",
        "* Thus I learn about the classification in machine learning.\n",
        "* I write Python code to identify the digit from image using neural network.\n",
        "* I learn types of classification problem in machine learning and learn about confusion matrix to evaluate performance of model."
      ],
      "metadata": {
        "id": "m6l_VkKQbLWU"
      }
    }
  ]
}